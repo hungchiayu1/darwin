{
 "cells": [
  {
   "cell_type": "code",
   "execution_count": 1,
   "id": "434002f3-3761-4702-97b0-9173ce387269",
   "metadata": {},
   "outputs": [
    {
     "name": "stderr",
     "output_type": "stream",
     "text": [
      "/home/chiayu/.local/lib/python3.10/site-packages/transformers/utils/hub.py:124: FutureWarning: Using `PYTORCH_TRANSFORMERS_CACHE` is deprecated and will be removed in v5 of Transformers. Use `HF_HOME` instead.\n",
      "  warnings.warn(\n"
     ]
    }
   ],
   "source": [
    "from models import Darwin, BestOfN\n",
    "from utils import Archive\n",
    "model_name = 'meta-llama/Meta-Llama-3-8B-Instruct'\n",
    "reward_model_name = 'sfairXC/FsfairX-LLaMA3-RM-v0.1'\n",
    "device = \"cuda:2\"\n",
    "\n",
    "## To use darwin, load darwin as generator\"\n"
   ]
  },
  {
   "cell_type": "markdown",
   "id": "a8da2070-bb58-4ecd-8cfc-2def60201822",
   "metadata": {},
   "source": [
    "# Darwin"
   ]
  },
  {
   "cell_type": "code",
   "execution_count": 2,
   "id": "7232a85a-9fd2-4446-9f97-e1f8b5938e33",
   "metadata": {},
   "outputs": [
    {
     "name": "stderr",
     "output_type": "stream",
     "text": [
      "Special tokens have been added in the vocabulary, make sure the associated word embeddings are fine-tuned or trained.\n"
     ]
    },
    {
     "data": {
      "application/json": {
       "ascii": false,
       "bar_format": null,
       "colour": null,
       "elapsed": 0.004637241363525391,
       "initial": 0,
       "n": 0,
       "ncols": null,
       "nrows": 43,
       "postfix": null,
       "prefix": "Loading checkpoint shards",
       "rate": null,
       "total": 4,
       "unit": "it",
       "unit_divisor": 1000,
       "unit_scale": false
      },
      "application/vnd.jupyter.widget-view+json": {
       "model_id": "ccd5841928304e52832252d2c392c604",
       "version_major": 2,
       "version_minor": 0
      },
      "text/plain": [
       "Loading checkpoint shards:   0%|          | 0/4 [00:00<?, ?it/s]"
      ]
     },
     "metadata": {},
     "output_type": "display_data"
    },
    {
     "name": "stderr",
     "output_type": "stream",
     "text": [
      "Special tokens have been added in the vocabulary, make sure the associated word embeddings are fine-tuned or trained.\n"
     ]
    },
    {
     "data": {
      "application/json": {
       "ascii": false,
       "bar_format": null,
       "colour": null,
       "elapsed": 0.0031626224517822266,
       "initial": 0,
       "n": 0,
       "ncols": null,
       "nrows": 43,
       "postfix": null,
       "prefix": "Loading checkpoint shards",
       "rate": null,
       "total": 4,
       "unit": "it",
       "unit_divisor": 1000,
       "unit_scale": false
      },
      "application/vnd.jupyter.widget-view+json": {
       "model_id": "6a38516243eb499f8d41651192aa92de",
       "version_major": 2,
       "version_minor": 0
      },
      "text/plain": [
       "Loading checkpoint shards:   0%|          | 0/4 [00:00<?, ?it/s]"
      ]
     },
     "metadata": {},
     "output_type": "display_data"
    }
   ],
   "source": [
    "generator = Darwin(\n",
    "            model_name, reward_model_name=reward_model_name, device=device)\n"
   ]
  },
  {
   "cell_type": "code",
   "execution_count": null,
   "id": "4b82ed04-33c5-4141-b212-44228afd6193",
   "metadata": {},
   "outputs": [],
   "source": [
    "instruction = \"How do cook delicious japanese food\"\n",
    "archive = Archive(instruction)\n",
    "generator.archive = archive ## Archive needs to be reinitialized every time inference is made on different instruction\n",
    "\n",
    "\n",
    "## look_ahead is number of tokens to look ahead while computing reward\n",
    "## Set show_generation_process to True to print the generation process of each beam\n",
    "## iteration is the number of mutation cycles\n",
    "output = generator.generate(instruction,\n",
    "                                     replacement_period=40,\n",
    "                                     show_generation_process=False,\n",
    "                                     iteration=1,\n",
    "                                     look_ahead=0,\n",
    "                                     n_mutation=1) ## n mutation is number mutation batch. Each batch consist of 5 mutated instruction\n",
    "\n",
    "\n"
   ]
  },
  {
   "cell_type": "code",
   "execution_count": 4,
   "id": "6805686b-cd31-41a5-a311-734d21d5ba73",
   "metadata": {
    "scrolled": true
   },
   "outputs": [
    {
     "name": "stdout",
     "output_type": "stream",
     "text": [
      "###Original output###\n",
      " Cooking delicious Japanese food! It's a culinary adventure that requires attention to detail, precision, and a passion for the art of Japanese cuisine. Here are some general tips and popular Japanese dishes to get you started:\n",
      "\n",
      "**Basic Ingredients and Cooking Techniques:**\n",
      "\n",
      "1. **Rice**: Japanese rice is a staple. Learn to cook perfect Japanese rice using a rice cooker or a pot with a ratio of 1 cup of rice to 1 1/2 cups of water.\n",
      "2. **Wok or Frying Pan**: A good wok or frying pan is essential for stir-frying and cooking various Japanese dishes.\n",
      "3. **Soy Sauce**: Use Japanese soy sauce (shoyu) for its rich, savory flavor.\n",
      "4. **Miso Paste**: Miso paste is a fermented soybean paste used in soups, sauces, and marinades.\n",
      "5. **Wasabi**: Fresh wasabi adds a spicy kick to many Japanese dishes.\n",
      "6. **Ginger**: Fresh ginger is used in many Japanese recipes for its flavor and health benefits.\n",
      "7. **Sushi Rice Vinegar**: Use Japanese rice vinegar to season sushi rice and add flavor.\n",
      "\n",
      "**Popular Japanese Dishes:**\n",
      "\n",
      "1. **Sushi**: Learn to make various types of sushi, such as maki (rolls), nigiri (hand-formed sushi), and sashimi (raw fish sliced into thin pieces).\n",
      "2. **Ramen**: Cook a rich, savory broth and add noodles, vegetables, and your choice of protein (e.g., pork, chicken, or boiled egg).\n",
      "3. **Teriyaki Chicken or Salmon**: Marinate meat in a sweet soy sauce-based sauce and grill or pan-fry until cooked.\n",
      "4. **Yakitori**: Skewer chicken or vegetables and grill them with a sweet soy sauce-based sauce.\n",
      "5. **Tonkatsu**: Bread and deep-fry pork cutlets and serve with shredded cabbage and a side of rice.\n",
      "6. **Udon or Soba Noodles**: Cook Japanese noodles and serve with hot broth, vegetables, and your choice of protein.\n",
      "7. **Bento**: Prepare a Japanese-style lunchbox with rice, vegetables, protein (e.g., chicken or fish), and pickled ginger.\n",
      "\n",
      "**Tips for Cooking Japanese Food:**\n",
      "\n",
      "1. **Use fresh ingredients**: Freshness is key in Japanese cuisine.\n",
      "2. **Follow traditional techniques**: Respect the traditional methods and techniques used in Japanese cooking.\n",
      "3. **Balance flavors**: Achieve a balance of sweet, sour, salty, and umami flavors in your dishes.\n",
      "4. **Attention to detail**: Pay attention to presentation, as it's an important aspect of Japanese cuisine.\n",
      "5. **Experiment and adapt**: Don't be afraid to try new ingredients and adapt recipes to your taste.\n",
      "\n",
      "**Popular Japanese Cooking Tools:**\n",
      "\n",
      "1. **Rice cooker**: A must-have for cooking perfect Japanese rice.\n",
      "2. **Wok or frying pan**: Essential for stir-frying and cooking various Japanese dishes.\n",
      "3. **Sushi mat**: A bamboo mat used to shape and roll sushi.\n",
      "4. **Miso paste container**: Store miso paste in a ceramic or glass container to preserve its flavor and texture.\n",
      "5. **Ginger grater**: Grate fresh ginger for added flavor and texture.\n",
      "\n",
      "**Online Resources:**\n",
      "\n",
      "1. **Japanese cooking blogs**: Websites like Just One Cookbook, Japan Centre, and Food52 offer a wealth of Japanese recipes and cooking tips.\n",
      "2. **YouTube channels**: Channels like Tasty, Binging with Babish, and Cooking with Dog offer entertaining and informative Japanese cooking videos.\n",
      "3. **Cookbooks**: Explore Japanese cookbooks at your local library or bookstore, such as \"The Essentials of Japanese Cooking\" by Shizuo Tsuji or \"Japanese Cooking: A Simple Art\" by Shizuo Tsuji.\n",
      "\n",
      "Remember, practice makes perfect! Start with simple recipes and gradually experiment with new ingredients and techniques. Happy cooking!\n",
      "###Output after first mutation cycle###\n",
      " Cooking delicious Japanese food! It's a culinary adventure that requires attention to detail, precision, and a passion for the art of Japanese cuisine. Here are some general tips and popular Japanese dishes to get you started:\n",
      "\n",
      "**Basic Ingredients and Cooking Techniques:**\n",
      "\n",
      "1. **Rice**: Japanese rice is a staple. Learn to cook perfect Japanese rice using a rice cooker or a pot with a ratio of 1 cup of rice to 1 1/2 cups of water.\n",
      "2. **Wok or Frying Pan**: A good wok or frying pan is essential for stir-frying and cooking various Japanese dishes.\n",
      "3. **Soy Sauce**: Use Japanese soy sauce (shoyu) for its rich, savory flavor.\n",
      "4. **Miso Paste**: Miso paste is a fermented soybean paste used in soups, sauces, and marinades.\n",
      "5. **Wasabi**: Fresh wasabi adds a spicy kick to many Japanese dishes.\n",
      "6. **Ginger**: Fresh ginger is used in many Japanese recipes for its flavor and health benefits.\n",
      "7. **Sushi Rice Vinegar**: Use Japanese rice vinegar to season sushi rice and add flavor.\n",
      "\n",
      "**Popular Japanese Dishes:**\n",
      "\n",
      "1. **Sushi**: Learn to make various types of sushi, such as maki (rolls), nigiri (hand-formed sushi), and sashimi (raw fish sliced into thin pieces).\n",
      "2. **Ramen**: Cook a rich, savory broth and add noodles, vegetables, and your choice of protein (e.g., pork, chicken, or boiled egg).\n",
      "3. **Teriyaki Chicken or Salmon**: Marinate meat in a sweet soy sauce-based sauce and grill or pan-fry until cooked.\n",
      "4. **Yakitori**: Skewer chicken or vegetables and grill them with a sweet soy sauce-based sauce.\n",
      "5. **Tonkatsu**: Bread and deep-fry pork cutlets and serve with shredded cabbage and a side of rice.\n",
      "6. **Udon or Soba Noodles**: Cook Japanese noodles and serve with hot broth, vegetables, and your choice of protein.\n",
      "7. **Bento**: Prepare a Japanese-style lunchbox with rice, vegetables, protein (e.g., chicken or fish), and pickled ginger.\n",
      "\n",
      "**Tips for Cooking Japanese Food:**\n",
      "\n",
      "1. **Use fresh ingredients**: Freshness is key in Japanese cuisine.\n",
      "2. **Follow traditional techniques**: Respect the traditional methods and techniques used in Japanese cooking.\n",
      "3. **Balance flavors**: Achieve a balance of sweet, sour, salty, and umami flavors in your dishes.\n",
      "4. **Attention to detail**: Pay attention to presentation, as it's an important aspect of Japanese cuisine.\n",
      "5. **Experiment and adapt**: Don't be afraid to try new ingredients and adapt recipes to your taste.\n",
      "\n",
      "**Popular Japanese Cooking Tools:**\n",
      "\n",
      "1. **Rice cooker**: A must-have for cooking perfect Japanese rice.\n",
      "2. **Wok or frying pan**: Essential for stir-frying and cooking various Japanese dishes.\n",
      "3. **Sushi mat**: A bamboo mat used to shape and roll sushi.\n",
      "4. **Miso paste container**: Store miso paste in a ceramic or glass container to preserve its flavor and texture.\n",
      "5. **Ginger grater**: Grate fresh ginger for added flavor and texture.\n",
      "\n",
      "**Online Resources:**\n",
      "\n",
      "1. **Japanese cooking blogs**: Websites like Just One Cookbook, Japan Centre, and Food52 offer a wealth of Japanese recipes and cooking tips.\n",
      "2. **YouTube channels**: Channels like Tasty, Binging with Babish, and Cooking with Dog offer entertaining and informative Japanese cooking videos.\n",
      "3. **Cookbooks**: Explore Japanese cookbooks at your local library or bookstore, such as \"The Essentials of Japanese Cooking\" by Shizuo Tsuji or \"Japanese Cooking: A Simple Art\" by Shizuo Tsuji.\n",
      "\n",
      "Remember, practice makes perfect! Start with simple recipes and gradually experiment with new ingredients and techniques. Happy cooking!\n"
     ]
    }
   ],
   "source": [
    "print(\"###Original output###\\n\",archive.output_list[0])\n",
    "print(\"###Output after first mutation cycle###\\n\", archive.output_list[1])"
   ]
  },
  {
   "cell_type": "markdown",
   "id": "943f59f3-a1b9-415b-879a-543f17c1ec31",
   "metadata": {},
   "source": [
    "# Best of N"
   ]
  },
  {
   "cell_type": "code",
   "execution_count": null,
   "id": "a524d72d-2d92-4985-9a09-406843b6e04f",
   "metadata": {},
   "outputs": [],
   "source": [
    "generator_best_of_n= BestOfN(\n",
    "            model_name, reward_model_name=reward_model_name, device=device)\n"
   ]
  },
  {
   "cell_type": "code",
   "execution_count": null,
   "id": "07fe850e-59bc-484c-8e0d-f61a0f1c28aa",
   "metadata": {},
   "outputs": [],
   "source": [
    "instruction = \"How do cook delicious japanese food\"\n",
    "output = generator_best_of_n.generate(instruction,n=5)"
   ]
  }
 ],
 "metadata": {
  "kernelspec": {
   "display_name": "Python 3 (ipykernel)",
   "language": "python",
   "name": "python3"
  },
  "language_info": {
   "codemirror_mode": {
    "name": "ipython",
    "version": 3
   },
   "file_extension": ".py",
   "mimetype": "text/x-python",
   "name": "python",
   "nbconvert_exporter": "python",
   "pygments_lexer": "ipython3",
   "version": "3.10.12"
  }
 },
 "nbformat": 4,
 "nbformat_minor": 5
}
